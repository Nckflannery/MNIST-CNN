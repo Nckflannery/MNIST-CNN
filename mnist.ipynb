{
 "cells": [
  {
   "cell_type": "code",
   "execution_count": 12,
   "metadata": {},
   "outputs": [],
   "source": [
    "import keras\n",
    "import numpy as np\n",
    "from keras.datasets import mnist\n",
    "from keras.models import Sequential\n",
    "from keras.layers import Dense, Dropout, Flatten\n",
    "from keras.layers import Conv2D, MaxPooling2D\n",
    "from keras import backend as K"
   ]
  },
  {
   "cell_type": "code",
   "execution_count": 4,
   "metadata": {
    "tags": []
   },
   "outputs": [
    {
     "output_type": "execute_result",
     "data": {
      "text/plain": "((60000, 28, 28), (60000,), (10000, 28, 28), (10000,))"
     },
     "metadata": {},
     "execution_count": 4
    }
   ],
   "source": [
    "# Import data\n",
    "(X_train, y_train), (X_test, y_test) = mnist.load_data()\n",
    "X_train.shape, y_train.shape, X_test.shape, y_test.shape"
   ]
  },
  {
   "cell_type": "code",
   "execution_count": 5,
   "metadata": {
    "tags": []
   },
   "outputs": [
    {
     "output_type": "stream",
     "name": "stdout",
     "text": "X_train shape: (60000, 28, 28, 1)\n60000 train samples\n10000 test samples\n"
    }
   ],
   "source": [
    "# Preprocess the data: \n",
    "## The image data needs to be reshaped for the CNN\n",
    "\n",
    "X_train = X_train.reshape(X_train.shape[0], 28, 28, 1)\n",
    "X_test = X_test.reshape(X_test.shape[0], 28, 28, 1)\n",
    "input_shape = (28, 28, 1)\n",
    "\n",
    "## Convert class vectors to binary class matrices\n",
    "num_classes = 10\n",
    "y_train = keras.utils.to_categorical(y_train, num_classes)\n",
    "y_test = keras.utils.to_categorical(y_test, num_classes)\n",
    "\n",
    "X_train = X_train.astype('float32')\n",
    "X_test = X_test.astype('float32')\n",
    "X_train /= 255\n",
    "X_test /= 255\n",
    "print('X_train shape:', X_train.shape)\n",
    "print(X_train.shape[0], 'train samples')\n",
    "print(X_test.shape[0], 'test samples')"
   ]
  },
  {
   "cell_type": "code",
   "execution_count": 6,
   "metadata": {},
   "outputs": [],
   "source": [
    "# Create CNN model\n",
    "\n",
    "def create_model():\n",
    "    model = Sequential()\n",
    "    model.add(Conv2D(16, kernel_size=(3,3), activation='relu', input_shape=input_shape))\n",
    "    model.add(Conv2D(32, (3,3), activation='relu'))\n",
    "    model.add(MaxPooling2D(pool_size=(2,2)))\n",
    "    model.add(Dropout(.25))\n",
    "    model.add(Flatten())\n",
    "    model.add(Dense(256, activation='relu'))\n",
    "    model.add(Dropout(.5))\n",
    "    model.add(Dense(num_classes, activation='softmax'))\n",
    "\n",
    "    model.compile(loss='categorical_crossentropy', optimizer='adam', metrics=['accuracy'])\n",
    "    return model"
   ]
  },
  {
   "cell_type": "code",
   "execution_count": 7,
   "metadata": {
    "tags": []
   },
   "outputs": [
    {
     "output_type": "stream",
     "name": "stdout",
     "text": "Epoch 1/10\n469/469 [==============================] - 22s 48ms/step - loss: 0.2408 - accuracy: 0.9271 - val_loss: 0.0598 - val_accuracy: 0.9807\nEpoch 2/10\n469/469 [==============================] - 24s 52ms/step - loss: 0.0824 - accuracy: 0.9760 - val_loss: 0.0374 - val_accuracy: 0.9871\nEpoch 3/10\n469/469 [==============================] - 22s 47ms/step - loss: 0.0612 - accuracy: 0.9813 - val_loss: 0.0351 - val_accuracy: 0.9882\nEpoch 4/10\n469/469 [==============================] - 22s 47ms/step - loss: 0.0472 - accuracy: 0.9848 - val_loss: 0.0303 - val_accuracy: 0.9901\nEpoch 5/10\n469/469 [==============================] - 22s 47ms/step - loss: 0.0412 - accuracy: 0.9872 - val_loss: 0.0297 - val_accuracy: 0.9896\nEpoch 6/10\n469/469 [==============================] - 23s 48ms/step - loss: 0.0360 - accuracy: 0.9885 - val_loss: 0.0256 - val_accuracy: 0.9917\nEpoch 7/10\n469/469 [==============================] - 22s 48ms/step - loss: 0.0319 - accuracy: 0.9897 - val_loss: 0.0277 - val_accuracy: 0.9911\nEpoch 8/10\n469/469 [==============================] - 23s 49ms/step - loss: 0.0286 - accuracy: 0.9909 - val_loss: 0.0293 - val_accuracy: 0.9908\nEpoch 9/10\n469/469 [==============================] - 22s 48ms/step - loss: 0.0263 - accuracy: 0.9912 - val_loss: 0.0253 - val_accuracy: 0.9921\nEpoch 10/10\n469/469 [==============================] - 22s 48ms/step - loss: 0.0245 - accuracy: 0.9921 - val_loss: 0.0280 - val_accuracy: 0.9918\n"
    }
   ],
   "source": [
    "# Train model\n",
    "model = create_model()\n",
    "batch_size = 128\n",
    "epochs = 10\n",
    "history = model.fit(X_train, y_train, batch_size=batch_size, epochs=epochs, verbose=1, validation_data=(X_test, y_test))"
   ]
  },
  {
   "cell_type": "code",
   "execution_count": 8,
   "metadata": {
    "tags": []
   },
   "outputs": [
    {
     "output_type": "stream",
     "name": "stdout",
     "text": "Test Loss: 0.02800820954144001\nTest Accuracy: 0.9918000102043152\n"
    }
   ],
   "source": [
    "score = model.evaluate(X_test, y_test, verbose=0)\n",
    "print(f'Test Loss: {score[0]}')\n",
    "print(f'Test Accuracy: {score[1]}')"
   ]
  },
  {
   "cell_type": "code",
   "execution_count": 9,
   "metadata": {},
   "outputs": [],
   "source": [
    "model.save('mnist_v2.h5')"
   ]
  },
  {
   "cell_type": "code",
   "execution_count": 39,
   "metadata": {},
   "outputs": [],
   "source": [
    "def test_item(index: int):\n",
    "    row = X_test[index].reshape(1, 28, 28, 1)\n",
    "    pred = model.predict(row)[0]\n",
    "    return f'Guess: {np.argmax(pred)}, Actual = {np.argmax(y_test[index])}, Certainty: {max(pred)*100 :.02f} %'"
   ]
  },
  {
   "cell_type": "code",
   "execution_count": 40,
   "metadata": {
    "tags": []
   },
   "outputs": [
    {
     "output_type": "stream",
     "name": "stdout",
     "text": "Guess: 6, Actual = 6, Certainty: 100.00 %\nGuess: 0, Actual = 0, Certainty: 100.00 %\nGuess: 5, Actual = 5, Certainty: 100.00 %\nGuess: 4, Actual = 4, Certainty: 100.00 %\nGuess: 9, Actual = 9, Certainty: 100.00 %\nGuess: 9, Actual = 9, Certainty: 100.00 %\nGuess: 2, Actual = 2, Certainty: 100.00 %\nGuess: 1, Actual = 1, Certainty: 99.89 %\nGuess: 9, Actual = 9, Certainty: 100.00 %\nGuess: 4, Actual = 4, Certainty: 100.00 %\nGuess: 8, Actual = 8, Certainty: 100.00 %\nGuess: 7, Actual = 7, Certainty: 98.59 %\nGuess: 3, Actual = 3, Certainty: 100.00 %\nGuess: 9, Actual = 9, Certainty: 100.00 %\nGuess: 7, Actual = 7, Certainty: 100.00 %\nGuess: 4, Actual = 4, Certainty: 71.42 %\nGuess: 4, Actual = 4, Certainty: 100.00 %\nGuess: 4, Actual = 4, Certainty: 100.00 %\nGuess: 9, Actual = 9, Certainty: 99.99 %\nGuess: 2, Actual = 2, Certainty: 99.74 %\nGuess: 5, Actual = 5, Certainty: 100.00 %\nGuess: 4, Actual = 4, Certainty: 99.89 %\nGuess: 7, Actual = 7, Certainty: 100.00 %\nGuess: 6, Actual = 6, Certainty: 100.00 %\nGuess: 7, Actual = 7, Certainty: 100.00 %\nGuess: 9, Actual = 9, Certainty: 99.95 %\nGuess: 0, Actual = 0, Certainty: 99.97 %\nGuess: 5, Actual = 5, Certainty: 100.00 %\nGuess: 8, Actual = 8, Certainty: 100.00 %\nGuess: 5, Actual = 5, Certainty: 100.00 %\nGuess: 6, Actual = 6, Certainty: 100.00 %\nGuess: 6, Actual = 6, Certainty: 100.00 %\nGuess: 5, Actual = 5, Certainty: 100.00 %\nGuess: 7, Actual = 7, Certainty: 100.00 %\nGuess: 8, Actual = 8, Certainty: 100.00 %\nGuess: 1, Actual = 1, Certainty: 100.00 %\nGuess: 0, Actual = 0, Certainty: 100.00 %\nGuess: 1, Actual = 1, Certainty: 100.00 %\nGuess: 6, Actual = 6, Certainty: 100.00 %\nGuess: 4, Actual = 4, Certainty: 99.99 %\nGuess: 6, Actual = 6, Certainty: 100.00 %\nGuess: 7, Actual = 7, Certainty: 100.00 %\nGuess: 3, Actual = 3, Certainty: 100.00 %\nGuess: 1, Actual = 1, Certainty: 100.00 %\nGuess: 7, Actual = 7, Certainty: 100.00 %\nGuess: 1, Actual = 1, Certainty: 100.00 %\nGuess: 8, Actual = 8, Certainty: 100.00 %\nGuess: 2, Actual = 2, Certainty: 100.00 %\nGuess: 0, Actual = 0, Certainty: 100.00 %\nGuess: 2, Actual = 2, Certainty: 99.84 %\nGuess: 9, Actual = 9, Certainty: 100.00 %\nGuess: 9, Actual = 9, Certainty: 99.18 %\nGuess: 5, Actual = 5, Certainty: 100.00 %\nGuess: 5, Actual = 5, Certainty: 100.00 %\nGuess: 1, Actual = 1, Certainty: 100.00 %\nGuess: 5, Actual = 5, Certainty: 100.00 %\nGuess: 6, Actual = 6, Certainty: 100.00 %\nGuess: 0, Actual = 0, Certainty: 100.00 %\nGuess: 3, Actual = 3, Certainty: 99.99 %\nGuess: 4, Actual = 4, Certainty: 99.98 %\nGuess: 4, Actual = 4, Certainty: 99.37 %\nGuess: 6, Actual = 6, Certainty: 100.00 %\nGuess: 5, Actual = 5, Certainty: 100.00 %\nGuess: 4, Actual = 4, Certainty: 100.00 %\nGuess: 6, Actual = 6, Certainty: 100.00 %\nGuess: 5, Actual = 5, Certainty: 100.00 %\nGuess: 4, Actual = 4, Certainty: 100.00 %\nGuess: 5, Actual = 5, Certainty: 99.99 %\nGuess: 1, Actual = 1, Certainty: 100.00 %\nGuess: 4, Actual = 4, Certainty: 100.00 %\nGuess: 4, Actual = 4, Certainty: 100.00 %\nGuess: 7, Actual = 7, Certainty: 98.55 %\nGuess: 2, Actual = 2, Certainty: 100.00 %\nGuess: 3, Actual = 3, Certainty: 100.00 %\nGuess: 2, Actual = 2, Certainty: 100.00 %\nGuess: 7, Actual = 7, Certainty: 98.64 %\nGuess: 1, Actual = 1, Certainty: 100.00 %\nGuess: 8, Actual = 8, Certainty: 100.00 %\nGuess: 1, Actual = 1, Certainty: 100.00 %\nGuess: 8, Actual = 8, Certainty: 100.00 %\nGuess: 1, Actual = 1, Certainty: 100.00 %\nGuess: 8, Actual = 8, Certainty: 100.00 %\nGuess: 5, Actual = 5, Certainty: 100.00 %\nGuess: 0, Actual = 0, Certainty: 100.00 %\nGuess: 8, Actual = 8, Certainty: 99.98 %\nGuess: 9, Actual = 9, Certainty: 100.00 %\nGuess: 2, Actual = 2, Certainty: 100.00 %\nGuess: 5, Actual = 5, Certainty: 100.00 %\nGuess: 0, Actual = 0, Certainty: 100.00 %\nGuess: 1, Actual = 1, Certainty: 99.98 %\nGuess: 1, Actual = 1, Certainty: 100.00 %\nGuess: 1, Actual = 1, Certainty: 100.00 %\nGuess: 0, Actual = 0, Certainty: 100.00 %\nGuess: 9, Actual = 9, Certainty: 99.97 %\nGuess: 0, Actual = 0, Certainty: 100.00 %\nGuess: 3, Actual = 3, Certainty: 99.71 %\nGuess: 1, Actual = 1, Certainty: 100.00 %\nGuess: 6, Actual = 6, Certainty: 100.00 %\nGuess: 4, Actual = 4, Certainty: 100.00 %\nGuess: 2, Actual = 2, Certainty: 99.97 %\n"
    }
   ],
   "source": [
    "for i in range(100, 200):\n",
    "    print(test_item(i))"
   ]
  },
  {
   "cell_type": "code",
   "execution_count": null,
   "metadata": {},
   "outputs": [],
   "source": []
  }
 ],
 "metadata": {
  "language_info": {
   "codemirror_mode": {
    "name": "ipython",
    "version": 3
   },
   "file_extension": ".py",
   "mimetype": "text/x-python",
   "name": "python",
   "nbconvert_exporter": "python",
   "pygments_lexer": "ipython3",
   "version": "3.7.7-final"
  },
  "orig_nbformat": 2,
  "kernelspec": {
   "name": "python_defaultSpec_1600387989477",
   "display_name": "Python 3.7.7 64-bit ('.venv': venv)"
  }
 },
 "nbformat": 4,
 "nbformat_minor": 2
}